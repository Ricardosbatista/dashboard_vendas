{
 "cells": [
  {
   "cell_type": "markdown",
   "metadata": {},
   "source": [
    "Importando bibliotecas"
   ]
  },
  {
   "cell_type": "code",
   "execution_count": 1,
   "metadata": {},
   "outputs": [],
   "source": [
    "import pandas as pd"
   ]
  },
  {
   "cell_type": "markdown",
   "metadata": {},
   "source": [
    ">Importando bases de dados"
   ]
  },
  {
   "cell_type": "code",
   "execution_count": null,
   "metadata": {},
   "outputs": [],
   "source": [
    "def importar (arquivo): return pd.read_csv(f'bases/{arquivo}')\n",
    "\n",
    "dados_categorias = importar ('data_categorias.csv')\n",
    "dados_clientes = importar ('data_clientes.csv')\n",
    "dados_lojas = importar ('data_lojas.csv')\n",
    "dados_produtos = importar ('data_produtos.csv')\n",
    "dados_vendas = importar ('data_vendas.csv')\n"
   ]
  },
  {
   "cell_type": "markdown",
   "metadata": {},
   "source": [
    ">Correções:\n",
    "* Alterar o tipo de dado das datas  \n",
    "* Remover R$ dos valores\n",
    "* Consolidar as bases\n",
    "* Remover colunas de ID\n",
    "* Criar a coluna de Total\n",
    "* Salvar o novo data_set"
   ]
  },
  {
   "cell_type": "code",
   "execution_count": null,
   "metadata": {},
   "outputs": [],
   "source": [
    "#Alterar o tipo de dado das datas\n",
    "\n",
    "dados_vendas['dt_Venda']= pd.to_datetime(dados_vendas['dt_Venda'])\n",
    "dados_vendas.dtypes\n"
   ]
  },
  {
   "cell_type": "code",
   "execution_count": 6,
   "metadata": {},
   "outputs": [
    {
     "data": {
      "text/plain": [
       "id_Produto         int64\n",
       "Produto           object\n",
       "fk_Categoria       int64\n",
       "Preço Unitário     int32\n",
       "dtype: object"
      ]
     },
     "execution_count": 6,
     "metadata": {},
     "output_type": "execute_result"
    }
   ],
   "source": [
    "#Remover R$ dos valores\n",
    "\n",
    "dados_produtos['Preço Unitário'] = dados_produtos['Preço Unitário'].str.lstrip('R$ ')\n",
    "dados_produtos['Preço Unitário'] = dados_produtos['Preço Unitário'].astype (int)\n",
    "dados_produtos.dtypes"
   ]
  },
  {
   "cell_type": "code",
   "execution_count": 15,
   "metadata": {},
   "outputs": [
    {
     "data": {
      "text/plain": [
       "(39135, 17)"
      ]
     },
     "execution_count": 15,
     "metadata": {},
     "output_type": "execute_result"
    }
   ],
   "source": [
    "# Consolidar as bases\n",
    "\n",
    "dados_consolidados = pd.merge (dados_vendas,dados_clientes,left_on='fk_Cliente', right_on='id_Cliente',how='left')\n",
    "\n",
    "dados_consolidados = pd.merge (dados_consolidados,dados_produtos,left_on='fk_Produto', right_on='id_Produto',how='right')\n",
    "\n",
    "dados_consolidados = pd.merge (dados_consolidados,dados_lojas,left_on='fk_Loja', right_on='id_Loja',how='right')\n",
    "\n",
    "dados_consolidados = pd.merge (dados_consolidados,dados_categorias,left_on='fk_Categoria', right_on='id_Categoria',how='right')\n"
   ]
  },
  {
   "cell_type": "code",
   "execution_count": 20,
   "metadata": {},
   "outputs": [
    {
     "name": "stdout",
     "output_type": "stream",
     "text": [
      "Erro\n"
     ]
    }
   ],
   "source": [
    "#Removendo colunas duplicadas\n",
    "\n",
    "try:\n",
    "\n",
    "    dados_consolidados = dados_consolidados.drop(['fk_Categoria', 'fk_Cliente', 'fk_Loja', 'fk_Produto'], axis=1)\n",
    "except KeyError:\n",
    "    \n",
    "    print(\"Erro\")\n",
    "\n",
    "#axis = 1 é coluna axis =0 ele limpa em linha"
   ]
  },
  {
   "cell_type": "code",
   "execution_count": null,
   "metadata": {},
   "outputs": [],
   "source": [
    "#Criar coluna de Total\n",
    "\n",
    "dados_consolidados ['Total'] = dados_consolidados['Quantidade'] * dados_consolidados ['Preço Unitário']\n"
   ]
  },
  {
   "cell_type": "code",
   "execution_count": 26,
   "metadata": {},
   "outputs": [],
   "source": [
    "#Salvando Novo Arquivo\n",
    "\n",
    "dados_consolidados.to_csv('bases/dados_competos.csv', index=False)"
   ]
  }
 ],
 "metadata": {
  "kernelspec": {
   "display_name": "Python 3",
   "language": "python",
   "name": "python3"
  },
  "language_info": {
   "codemirror_mode": {
    "name": "ipython",
    "version": 3
   },
   "file_extension": ".py",
   "mimetype": "text/x-python",
   "name": "python",
   "nbconvert_exporter": "python",
   "pygments_lexer": "ipython3",
   "version": "3.12.3"
  }
 },
 "nbformat": 4,
 "nbformat_minor": 2
}
